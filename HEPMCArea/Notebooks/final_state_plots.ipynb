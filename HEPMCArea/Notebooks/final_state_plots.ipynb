{
 "cells": [
  {
   "cell_type": "markdown",
   "id": "588418ec",
   "metadata": {},
   "source": [
    "# Rivet style analysis plots in MATPLOTLIB"
   ]
  },
  {
   "cell_type": "markdown",
   "id": "ab61804f",
   "metadata": {},
   "source": [
    "Easier way to do rivet style final state analysis when only plots required are the final state variables/kinematics."
   ]
  },
  {
   "cell_type": "code",
   "execution_count": 6,
   "id": "38e5f9a4",
   "metadata": {},
   "outputs": [],
   "source": [
    "import pyhepmc \n",
    "from pyhepmc import GenEvent, FourVector\n",
    "from pyhepmc.io import ReaderAsciiHepMC2, WriterAsciiHepMC2\n",
    "from typing import Tuple"
   ]
  },
  {
   "cell_type": "markdown",
   "id": "e37104ca",
   "metadata": {},
   "source": [
    "First define functions for the logic of the final state particles that returns the final state particles and anonther for reading a the input file(s) and retrieveing and store the 4-momentum of all final state particles. "
   ]
  },
  {
   "cell_type": "code",
   "execution_count": null,
   "id": "d077469a",
   "metadata": {},
   "outputs": [],
   "source": [
    "def final_state_logic(event : GenEvent) -> Tuple[FourVector]:\n",
    "    \"\"\"Given an input of a GenEvent from a HEPMC introduces the logic to find the 2 final state electrons \n",
    "    from the Drell-Yan Z -> ee process. Very simple logic requiring a Z boson with 2 final state electrons\n",
    "    coming from its end vertex.\n",
    "    \"\"\"\n",
    "    e_pair = tuple()\n",
    "    for particles in event.particles:\n",
    "        # Check for Z boson\n",
    "        if particles.pid == 23:\n",
    "            end_vertex = particles.end_vertex\n",
    "            if end_vertex.end_particles is None:\n",
    "                continue\n",
    "            # Loop through daughters of its end vertex\n",
    "            for daughter_particles in end_vertex.end_particles:\n",
    "                if daughter_particles.abspid == 11 and daughter_particles.status == 1:\n",
    "                    e_pair.append(daughter_particles)\n",
    "    return e_pair\n",
    "\n",
    "def read_hepmc_file_get_final_states():\n",
    "    pass\n",
    "\n",
    "\n",
    "\n",
    "def read_get_final_states(input_files):\n",
    "    if isinstance(input_files, list):\n",
    "        four_momenta = []\n",
    "        for file in input_files:\n",
    "            four_momenta += read_hepmc_file_get_final_states(file)\n",
    "    else:\n",
    "        four_momenta = read_hepmc_file_get_final_states(input_files)\n",
    "    "
   ]
  }
 ],
 "metadata": {
  "kernelspec": {
   "display_name": "Python 3",
   "language": "python",
   "name": "python3"
  },
  "language_info": {
   "codemirror_mode": {
    "name": "ipython",
    "version": 3
   },
   "file_extension": ".py",
   "mimetype": "text/x-python",
   "name": "python",
   "nbconvert_exporter": "python",
   "pygments_lexer": "ipython3",
   "version": "3.9.21"
  }
 },
 "nbformat": 4,
 "nbformat_minor": 5
}
