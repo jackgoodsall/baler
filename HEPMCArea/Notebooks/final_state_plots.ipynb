{
 "cells": [
  {
   "cell_type": "markdown",
   "id": "588418ec",
   "metadata": {},
   "source": [
    "# Rivet style analysis plots in MATPLOTLIB"
   ]
  },
  {
   "cell_type": "markdown",
   "id": "ab61804f",
   "metadata": {},
   "source": [
    "Easier way to do rivet style final state analysis when only plots required are the final state variables/kinematics."
   ]
  },
  {
   "cell_type": "code",
   "execution_count": null,
   "id": "38e5f9a4",
   "metadata": {},
   "outputs": [],
   "source": [
    "from dataclasses import dataclass\n",
    "from typing import Tuple, List, Union\n",
    "\n",
    "import matplotlib.pyplot as plt\n",
    "import numpy as np\n",
    "\n",
    "import pyhepmc \n",
    "from pyhepmc import GenEvent, FourVector, GenParticle\n",
    "from pyhepmc.io import ReaderAsciiHepMC2, WriterAsciiHepMC2\n",
    "\n"
   ]
  },
  {
   "cell_type": "markdown",
   "id": "e37104ca",
   "metadata": {},
   "source": [
    "First define functions for the logic of the final state particles that returns the final state particles and anonther for reading a the input file(s) and retrieveing and store the 4-momentum of all final state particles. "
   ]
  },
  {
   "cell_type": "code",
   "execution_count": 50,
   "id": "d077469a",
   "metadata": {},
   "outputs": [],
   "source": [
    "def final_state_logic(event : GenEvent) -> List[GenParticle]:\n",
    "    \"\"\"Given an input of a GenEvent from a HEPMC introduces the logic to find the 2 final state electrons \n",
    "        from the Drell-Yan Z -> ee process. Very simple logic requiring a Z boson with 2 final state electrons\n",
    "        coming from its end vertex.\n",
    "    \"\"\"\n",
    "    e_pair = list()\n",
    "    for particles in event.particles:\n",
    "        # Check for Z boson\n",
    "        if particles.pid == 23:\n",
    "            end_vertex = particles.end_vertex\n",
    "            if end_vertex.particles_out is None:\n",
    "                continue\n",
    "            # Loop through daughters of its end vertex\n",
    "            for daughter_particles in end_vertex.particles_out:\n",
    "                if abs(daughter_particles.pid) == 11 and daughter_particles.status == 1:\n",
    "                    e_pair.append(daughter_particles)\n",
    "    return e_pair\n",
    "\n",
    "def read_hepmc_file_get_final_states(input_file: str) -> List[List[GenParticle]]:\n",
    "    \"\"\"Function to read a single hepmc file, read all the events and extact\n",
    "        the final state electron pairs from each event.\n",
    "        Args:    \n",
    "            input_file (str) : name/location of input file\n",
    "        Returns:\n",
    "            List[List[GenParicle]]: Each list entry is a list of GenParitcles \n",
    "                from a singular event.\n",
    "    \"\"\"\n",
    "    # Create pyhepmc GenEvent to be able to read in the Event Gen\n",
    "    event = GenEvent()\n",
    "    electron_pairs = []\n",
    "    with ReaderAsciiHepMC2(input_file) as reader:\n",
    "        # Continues untill all events are read, if a standarad open data single \n",
    "        # file this would be 10,000 events\n",
    "        while not reader.failed():\n",
    "            if reader.failed():\n",
    "                break\n",
    "            reader.read_event(event)\n",
    "\n",
    "            candidate_pair = final_state_logic(event)\n",
    "            # Stop empty events appending\n",
    "            if candidate_pair:\n",
    "                electron_pairs.append(candidate_pair)\n",
    "    return electron_pairs\n",
    "\n",
    "def read_get_final_states(input_files: Union[str, List[str]]) -> List[Tuple[GenParticle]]:\n",
    "    \"\"\"Function that either reads in a Lit of strings or a string of a file name \n",
    "        that corresponds to a HEPMC - no name checking logic involved as \n",
    "        reader in read_hepmc_file will fail if it is not anyway\n",
    "        Args:\n",
    "            input_files : either a str or a list of strings\n",
    "        Returns:\n",
    "            List[List[GenParicle]]: Each list entry is a list of GenParitcles \n",
    "            from a singular event.\n",
    "    \"\"\"\n",
    "    ## This ensures the logic is the same for either string or list input\n",
    "    files = input_files if isinstance(input_files, list) else [input_files]\n",
    "\n",
    "    four_momenta = []\n",
    "    \n",
    "    for file in files:\n",
    "        four_momenta += read_hepmc_file_get_final_states(file)\n",
    "    return four_momenta\n",
    "   "
   ]
  },
  {
   "cell_type": "markdown",
   "id": "8e146e9f",
   "metadata": {},
   "source": [
    "Now that we have the functions to read the files and get the final state particles we know need functions to easily make plots."
   ]
  },
  {
   "cell_type": "code",
   "execution_count": 54,
   "id": "d8fb2e60",
   "metadata": {},
   "outputs": [],
   "source": [
    "particles = read_get_final_states([\"../DATA/HEPMC.43646139._000001.hepmc\", \"../DATA/HEPMC.43646139._000001.hepmc\"])"
   ]
  },
  {
   "cell_type": "code",
   "execution_count": null,
   "id": "e3149f4c",
   "metadata": {},
   "outputs": [],
   "source": [
    "@dataclass\n",
    "class PlotConfiguration:\n",
    "    xlabel: str\n",
    "    ylabel: str\n",
    "    title: str\n",
    "    legend: str\n",
    "    xmin: int\n",
    "    xmax: int\n",
    "\n",
    "\n",
    "@dataclass\n",
    "class HistConfigurations:\n",
    "    bins: int\n",
    "\n",
    "\n",
    "def make_invariant_mass_plot(particle_list: List[List[GenParticle]], config):\n",
    "    fig = plt.figure()\n",
    "\n",
    "    invariant_masses = []\n",
    "    for pair in particle_list:\n",
    "        if len(pair) != 2:\n",
    "            continue\n",
    "        combined_four_momentum = pair[0].momentum + pair[1].momentum\n",
    "        inv_mass = combined_four_momentum.m()\n",
    "        invariant_masses.append(inv_mass)\n",
    "\n",
    "    plt.xlabel(r\"Invariant Mass $m_{ll}$\")\n",
    "    plt.ylabel(f\"Events per {(400000-200000)/100 : .0f} MeV\")\n",
    "\n",
    "    plt.hist(invariant_masses, bins = 100, range = (200000, 400000))\n"
   ]
  },
  {
   "cell_type": "code",
   "execution_count": 94,
   "id": "0716a862",
   "metadata": {},
   "outputs": [
    {
     "data": {
      "image/png": "[encoded data removed]",
      "text/plain": [
       "<Figure size 640x480 with 1 Axes>"
      ]
     },
     "metadata": {},
     "output_type": "display_data"
    }
   ],
   "source": [
    "make_invariant_mass_plot(particles)"
   ]
  },
  {
   "cell_type": "code",
   "execution_count": null,
   "id": "86640ca6",
   "metadata": {},
   "outputs": [],
   "source": []
  }
 ],
 "metadata": {
  "kernelspec": {
   "display_name": "Python 3",
   "language": "python",
   "name": "python3"
  },
  "language_info": {
   "codemirror_mode": {
    "name": "ipython",
    "version": 3
   },
   "file_extension": ".py",
   "mimetype": "text/x-python",
   "name": "python",
   "nbconvert_exporter": "python",
   "pygments_lexer": "ipython3",
   "version": "3.9.21"
  }
 },
 "nbformat": 4,
 "nbformat_minor": 5
}
