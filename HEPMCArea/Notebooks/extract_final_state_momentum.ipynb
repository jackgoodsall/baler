{
 "cells": [
  {
   "cell_type": "code",
   "execution_count": 1,
   "id": "80f5958c",
   "metadata": {},
   "outputs": [
    {
     "name": "stderr",
     "output_type": "stream",
     "text": [
      "/tmp/ipykernel_1849358/1025005862.py:2: DeprecationWarning: importing ReaderAsciiHepMC2 from pyhepmc is deprecated, please import from pyhepmc.io\n",
      "  from pyhepmc import GenEvent, GenParticle, ReaderAsciiHepMC2, FourVector\n"
     ]
    }
   ],
   "source": [
    "from typing import List, Tuple\n",
    "from pyhepmc import GenEvent, GenParticle, ReaderAsciiHepMC2, FourVector\n",
    "import numpy as np\n",
    "\n",
    "MOMENTUM_ORDER = True\n",
    "\n",
    "def calculate_trans_momentum(electron):\n",
    "    \"\"\"Function to calculate transverse momentum of a GenParticle Object\"\"\"\n",
    "    px = electron.momentum.px\n",
    "    py = electron.momentum.py\n",
    "    return np.sqrt(px**2 + py**2)\n",
    "\n",
    "def get_z_decay_electrons(event):\n",
    "    electrons = []\n",
    "    for p in event.particles:\n",
    "        if p.pid == 23:\n",
    "            vz = p.end_vertex\n",
    "            if vz is None:\n",
    "                continue\n",
    "            for dau in vz.particles_out:\n",
    "                if dau.status == 1 and abs(dau.pid) == 11:\n",
    "                    electrons.append(dau)\n",
    "    return electrons\n",
    "\n",
    "def get_final_state_electrons(event):\n",
    "    electrons = []\n",
    "    for p in event.particles:\n",
    "        if abs(p.pid) == 11 and p.status == 1:\n",
    "            electrons.append(p)\n",
    "    return electrons\n",
    "\n",
    "def get_final_state_particles(event):\n",
    "    particles = []\n",
    "    for p in event.particles:\n",
    "        if p.status == 1:\n",
    "            particles.append(p)\n",
    "    return particles\n",
    "\n",
    "\n",
    "def extract_electron_momenta(event, num_particles):\n",
    "    z_electrons = get_z_decay_electrons(event)\n",
    "    other_electrons = get_final_state_electrons(event)\n",
    "    final_state_particles = get_final_state_particles(event)\n",
    "\n",
    "    # Sort each category by transverse momentum\n",
    "    sorted_z_electrons = sorted(z_electrons, key=lambda x: calculate_trans_momentum(x), reverse=True)\n",
    "    sorted_other_electrons = sorted(other_electrons, key=lambda x: calculate_trans_momentum(x), reverse=True)\n",
    "    sorted_final_state_particles = sorted(final_state_particles, key=lambda x: calculate_trans_momentum(x), reverse=True)\n",
    "\n",
    "    # Deduplicate while preserving order\n",
    "    unique_particles = {}\n",
    "    for particle in (sorted_z_electrons + sorted_other_electrons + sorted_final_state_particles):\n",
    "        if id(particle) not in unique_particles:\n",
    "            unique_particles[id(particle)] = particle\n",
    "\n",
    "    # Convert to list\n",
    "    particles = list(unique_particles.values())\n",
    "\n",
    "    if len(particles) < num_particles:\n",
    "        for _ in range(num_particles - len(particles)):\n",
    "            dummy = GenParticle(FourVector(0, 0, 0, 0), 0, 1)  # pid=0, status=1 (dummy)\n",
    "            particles.append(dummy)\n",
    "\n",
    "    return particles[:num_particles]\n",
    "\n",
    "\n",
    "\n",
    "\n",
    "def extract_electron_momenta_from_hepmc2(input_path, num_particles = 50):\n",
    "    momenta_list = []\n",
    "    for paths in input_path:\n",
    "        with ReaderAsciiHepMC2(paths) as reader:\n",
    "            while not reader.failed():\n",
    "                evt = GenEvent()\n",
    "                reader.read_event(evt)\n",
    "                if reader.failed():\n",
    "                    break\n",
    "                try:\n",
    "                    mom_pair = extract_electron_momenta(evt, num_particles)\n",
    "                    momenta_list.append(mom_pair)\n",
    "                except:\n",
    "                    continue\n",
    "    return momenta_list\n",
    "\n",
    "\n",
    "def write_momenta_to_npz(momenta, output_path):\n",
    "    # Define column names\n",
    "    names = []\n",
    "    for i in range(len(momenta[0])):\n",
    "        names.extend( [f\"px{i}\",f\"py{i}\",f\"pz{i}\",f\"e{i}\"])\n",
    "    # Convert momenta into a NumPy array\n",
    "    print(len(names))\n",
    "\n",
    "    data = np.array([\n",
    "        [[p1.momentum.px, p1.momentum.py, p1.momentum.pz, p1.momentum.e] for p1 in events]\n",
    "        for events in momenta\n",
    "    ])\n",
    "    print(data.reshape(-1, 200).shape)\n",
    "    # Save to NPZ with both data and names\n",
    "    np.savez(output_path, data=data.reshape(-1,200), names=names)\n",
    "\n"
   ]
  },
  {
   "cell_type": "code",
   "execution_count": 2,
   "id": "5324e5ee",
   "metadata": {},
   "outputs": [],
   "source": [
    "momenta = extract_electron_momenta_from_hepmc2([\n",
    "    f\"../DATA/HEPMCfiles/HEPMC.43646139._0000{str(i).zfill(2)}.hepmc\" for i in range(1, 11)\n",
    "])"
   ]
  },
  {
   "cell_type": "code",
   "execution_count": 3,
   "id": "f24e4242",
   "metadata": {},
   "outputs": [
    {
     "name": "stdout",
     "output_type": "stream",
     "text": [
      "200\n",
      "(100000, 200)\n"
     ]
    }
   ],
   "source": [
    "write_momenta_to_npz(momenta, \"../DATA/50ParticlesFlattened.npz\")"
   ]
  },
  {
   "cell_type": "code",
   "execution_count": 4,
   "id": "6ba37a65",
   "metadata": {},
   "outputs": [
    {
     "name": "stdout",
     "output_type": "stream",
     "text": [
      "[GenParticle(FourVector(1.05e+05, 2.12e+04, 1.78e+06, 1.78e+06), mass=0.510999, pid=11, status=1), GenParticle(FourVector(-7.25e+04, -1.48e+04, 1.43e+05, 1.61e+05), mass=0.510999, pid=-11, status=1), GenParticle(FourVector(-351, 97.4, 1.06e+04, 1.06e+04), mass=0.511, pid=11, status=1), GenParticle(FourVector(-27.1, 11.1, 801, 802), mass=0.511, pid=-11, status=1), GenParticle(FourVector(-8.72e+03, -1.88e+03, 1.68e+04, 1.9e+04), mass=0, pid=22, status=1), GenParticle(FourVector(-3.79e+03, -2.71e+03, -1.68e+04, 1.75e+04), mass=139.57, pid=211, status=1), GenParticle(FourVector(-3.17e+03, -1.95e+03, -1.48e+04, 1.52e+04), mass=493.68, pid=321, status=1), GenParticle(FourVector(-2.41e+03, 235, 4.1e+05, 4.1e+05), mass=0, pid=22, status=1), GenParticle(FourVector(1.37e+03, 1.9e+03, -2.88e+03, 3.75e+03), mass=497.61, pid=130, status=1), GenParticle(FourVector(-2.04e+03, 536, 2.73e+05, 2.73e+05), mass=139.57, pid=211, status=1), GenParticle(FourVector(270, -2.04e+03, 1.39e+04, 1.41e+04), mass=0, pid=22, status=1), GenParticle(FourVector(-1.97e+03, -269, 2.94e+05, 2.94e+05), mass=139.57, pid=211, status=1), GenParticle(FourVector(-1.32e+03, -1.39e+03, -6.08e+03, 6.39e+03), mass=497.61, pid=310, status=1), GenParticle(FourVector(-1.65e+03, -918, -5.5e+03, 5.82e+03), mass=139.57, pid=-211, status=1), GenParticle(FourVector(639, 1.53e+03, -3.15e+04, 3.16e+04), mass=1115.68, pid=3122, status=1), GenParticle(FourVector(-1.34e+03, 938, 1.58e+05, 1.58e+05), mass=139.57, pid=211, status=1), GenParticle(FourVector(-1.63e+03, -127, 2.47e+05, 2.47e+05), mass=139.57, pid=-211, status=1), GenParticle(FourVector(871, 899, -2.5e+04, 2.5e+04), mass=497.61, pid=310, status=1), GenParticle(FourVector(859, 876, -2.21e+03, 2.53e+03), mass=139.57, pid=-211, status=1), GenParticle(FourVector(221, -1.19e+03, 1.12e+04, 1.13e+04), mass=493.68, pid=321, status=1), GenParticle(FourVector(-1.11e+03, 414, 9.19e+04, 9.19e+04), mass=139.57, pid=-211, status=1), GenParticle(FourVector(-991, -531, 1.04e+05, 1.04e+05), mass=139.57, pid=211, status=1), GenParticle(FourVector(-960, 269, 9.81e+04, 9.81e+04), mass=139.57, pid=211, status=1), GenParticle(FourVector(109, 990, -877, 1.33e+03), mass=139.57, pid=-211, status=1), GenParticle(FourVector(-796, 576, 8.02e+04, 8.02e+04), mass=139.57, pid=211, status=1), GenParticle(FourVector(-386, -890, -1.83e+06, 1.83e+06), mass=139.57, pid=-211, status=1), GenParticle(FourVector(-658, -711, 4.02e+04, 4.02e+04), mass=139.57, pid=211, status=1), GenParticle(FourVector(-845, -402, 4.1e+03, 4.21e+03), mass=139.57, pid=-211, status=1), GenParticle(FourVector(257, -894, 435, 1.14e+03), mass=497.61, pid=310, status=1), GenParticle(FourVector(-788, -454, -5.68e+03, 5.83e+03), mass=939.57, pid=-2112, status=1), GenParticle(FourVector(-782, 359, 3.91e+03, 4e+03), mass=0, pid=22, status=1), GenParticle(FourVector(844, 135, -176, 884), mass=139.57, pid=211, status=1), GenParticle(FourVector(-803, 248, -1.22e+03, 1.56e+03), mass=493.68, pid=321, status=1), GenParticle(FourVector(662, 498, 5.39e+03, 5.46e+03), mass=139.57, pid=-211, status=1), GenParticle(FourVector(-513, -629, 2.13e+04, 2.13e+04), mass=0, pid=22, status=1), GenParticle(FourVector(601, 390, -415, 839), mass=139.57, pid=-211, status=1), GenParticle(FourVector(86.9, 710, -6.41e+03, 6.45e+03), mass=139.57, pid=211, status=1), GenParticle(FourVector(616, -217, 1.04e+05, 1.04e+05), mass=938.27, pid=-2212, status=1), GenParticle(FourVector(441, -477, -839, 1.06e+03), mass=0, pid=22, status=1), GenParticle(FourVector(647, -4.59, 5.9e+03, 5.94e+03), mass=139.57, pid=211, status=1), GenParticle(FourVector(-448, -456, 1.42e+04, 1.43e+04), mass=0, pid=22, status=1), GenParticle(FourVector(-635, 46.1, 1.14e+04, 1.14e+04), mass=0, pid=22, status=1), GenParticle(FourVector(-627, -103, 9.58e+04, 9.58e+04), mass=139.57, pid=-211, status=1), GenParticle(FourVector(531, 349, -3.54e+03, 3.6e+03), mass=139.57, pid=211, status=1), GenParticle(FourVector(388, -503, 1.5e+03, 1.63e+03), mass=0, pid=22, status=1), GenParticle(FourVector(-513, 348, 8.38e+04, 8.38e+04), mass=0, pid=22, status=1), GenParticle(FourVector(-300, -541, 917, 1.11e+03), mass=139.57, pid=-211, status=1), GenParticle(FourVector(273, -552, 6e+03, 6.04e+03), mass=0, pid=22, status=1), GenParticle(FourVector(604, 89.1, -2.48e+03, 2.72e+03), mass=938.27, pid=-2212, status=1), GenParticle(FourVector(-208, 574, 1.2e+04, 1.21e+04), mass=139.57, pid=211, status=1)]\n"
     ]
    }
   ],
   "source": [
    "print(momenta[0])"
   ]
  },
  {
   "cell_type": "code",
   "execution_count": null,
   "id": "4968a9b4",
   "metadata": {},
   "outputs": [],
   "source": []
  }
 ],
 "metadata": {
  "kernelspec": {
   "display_name": "Python 3",
   "language": "python",
   "name": "python3"
  },
  "language_info": {
   "codemirror_mode": {
    "name": "ipython",
    "version": 3
   },
   "file_extension": ".py",
   "mimetype": "text/x-python",
   "name": "python",
   "nbconvert_exporter": "python",
   "pygments_lexer": "ipython3",
   "version": "3.9.21"
  }
 },
 "nbformat": 4,
 "nbformat_minor": 5
}
