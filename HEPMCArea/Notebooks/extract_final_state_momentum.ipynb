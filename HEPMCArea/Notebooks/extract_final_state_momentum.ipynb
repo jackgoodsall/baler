{
 "cells": [
  {
   "cell_type": "code",
   "execution_count": 3,
   "id": "80f5958c",
   "metadata": {},
   "outputs": [
    {
     "name": "stderr",
     "output_type": "stream",
     "text": [
      "/tmp/ipykernel_3662309/4097412032.py:2: DeprecationWarning: importing ReaderAsciiHepMC2 from pyhepmc is deprecated, please import from pyhepmc.io\n",
      "  from pyhepmc import GenEvent, GenParticle, ReaderAsciiHepMC2, FourVector\n"
     ]
    }
   ],
   "source": [
    "from typing import List, Tuple\n",
    "from pyhepmc import GenEvent, GenParticle, ReaderAsciiHepMC2, FourVector\n",
    "import numpy as np\n",
    "\n",
    "MOMENTUM_ORDER = True\n",
    "\n",
    "def calculate_trans_momentum(electron):\n",
    "    \"\"\"Function to calculate transverse momentum of a GenParticle Object\"\"\"\n",
    "    px = electron.momentum.px\n",
    "    py = electron.momentum.py\n",
    "    return np.sqrt(px**2 + py**2)\n",
    "\n",
    "def get_z_decay_electrons(event):\n",
    "    electrons = []\n",
    "    for p in event.particles:\n",
    "        if p.pid == 23:\n",
    "            vz = p.end_vertex\n",
    "            if vz is None:\n",
    "                continue\n",
    "            for dau in vz.particles_out:\n",
    "                if dau.status == 1 and abs(dau.pid) == 11:\n",
    "                    electrons.append(dau)\n",
    "    return electrons\n",
    "\n",
    "def get_final_state_electrons(event):\n",
    "    electrons = []\n",
    "    for p in event.particles:\n",
    "        if abs(p.pid) == 11 and p.status == 1:\n",
    "            electrons.append(p)\n",
    "    return electrons\n",
    "\n",
    "def get_final_state_particles(event):\n",
    "    particles = []\n",
    "    for p in event.particles:\n",
    "        if p.status == 1:\n",
    "            particles.append(p)\n",
    "    return particles\n",
    "\n",
    "\n",
    "def extract_electron_momenta(event, num_particles):\n",
    "    z_electrons = get_z_decay_electrons(event)\n",
    "    other_electrons = get_final_state_electrons(event)\n",
    "    final_state_particles = get_final_state_particles(event)\n",
    "\n",
    "    # Sort each category by transverse momentum\n",
    "    sorted_z_electrons = sorted(z_electrons, key=lambda x: calculate_trans_momentum(x), reverse=True)\n",
    "    sorted_other_electrons = sorted(other_electrons, key=lambda x: calculate_trans_momentum(x), reverse=True)\n",
    "    sorted_final_state_particles = sorted(final_state_particles, key=lambda x: calculate_trans_momentum(x), reverse=True)\n",
    "\n",
    "    # Deduplicate while preserving order\n",
    "    unique_particles = {}\n",
    "    for particle in (sorted_z_electrons + sorted_other_electrons + sorted_final_state_particles):\n",
    "        if id(particle) not in unique_particles:\n",
    "            unique_particles[id(particle)] = particle\n",
    "\n",
    "    # Convert to list\n",
    "    particles = list(unique_particles.values())\n",
    "\n",
    "    if len(particles) < num_particles:\n",
    "        for _ in range(num_particles - len(particles)):\n",
    "            dummy = GenParticle(FourVector(0, 0, 0, 0), 0, 1)  # pid=0, status=1 (dummy)\n",
    "            particles.append(dummy)\n",
    "\n",
    "    return particles[:num_particles]\n",
    "\n",
    "\n",
    "\n",
    "\n",
    "def extract_electron_momenta_from_hepmc2(input_path, num_particles = 20):\n",
    "    momenta_list = []\n",
    "    for paths in input_path:\n",
    "        with ReaderAsciiHepMC2(paths) as reader:\n",
    "            while not reader.failed():\n",
    "                evt = GenEvent()\n",
    "                reader.read_event(evt)\n",
    "                if reader.failed():\n",
    "                    break\n",
    "                try:\n",
    "                    mom_pair = extract_electron_momenta(evt, num_particles)\n",
    "                    momenta_list.append(mom_pair)\n",
    "                except:\n",
    "                    continue\n",
    "    return momenta_list\n",
    "\n",
    "\n",
    "def write_momenta_to_npz(momenta, output_path):\n",
    "    # Define column names\n",
    "    names = []\n",
    "    for i in range(len(momenta[0])):\n",
    "        names.extend( [f\"px{i}\",f\"py{i}\",f\"pz{i}\",f\"e{i}\"])\n",
    "    # Convert momenta into a NumPy array\n",
    "    print(len(names))\n",
    "\n",
    "    data = np.array([\n",
    "        [[p1.momentum.px, p1.momentum.py, p1.momentum.pz, p1.momentum.e] for p1 in events]\n",
    "        for events in momenta\n",
    "    ])\n",
    "    print(data.reshape(-1, 80).shape)\n",
    "    # Save to NPZ with both data and names\n",
    "    np.savez(output_path, data=data.reshape(-1,80), names=names)\n",
    "\n"
   ]
  },
  {
   "cell_type": "code",
   "execution_count": null,
   "id": "5324e5ee",
   "metadata": {},
   "outputs": [],
   "source": [
    "momenta = extract_electron_momenta_from_hepmc2([\n",
    "    f\"../DATA/HEPMCfiles/HEPMC.43646139._0000{str(i).zfill(2)}.hepmc\" for i in range(1, 11)\n",
    "])"
   ]
  },
  {
   "cell_type": "code",
   "execution_count": null,
   "id": "f24e4242",
   "metadata": {},
   "outputs": [
    {
     "name": "stdout",
     "output_type": "stream",
     "text": [
      "200\n",
      "(100000, 200)\n"
     ]
    }
   ],
   "source": [
    "write_momenta_to_npz(momenta, \"../DATA/MomentumOrdered100-000Events20ParticlesFlattened.npz\")"
   ]
  },
  {
   "cell_type": "code",
   "execution_count": null,
   "id": "6ba37a65",
   "metadata": {},
   "outputs": [],
   "source": []
  }
 ],
 "metadata": {
  "kernelspec": {
   "display_name": "Python 3",
   "language": "python",
   "name": "python3"
  },
  "language_info": {
   "codemirror_mode": {
    "name": "ipython",
    "version": 3
   },
   "file_extension": ".py",
   "mimetype": "text/x-python",
   "name": "python",
   "nbconvert_exporter": "python",
   "pygments_lexer": "ipython3",
   "version": "3.9.21"
  }
 },
 "nbformat": 4,
 "nbformat_minor": 5
}
