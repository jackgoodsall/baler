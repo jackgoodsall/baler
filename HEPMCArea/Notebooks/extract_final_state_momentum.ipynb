{
 "cells": [
  {
   "cell_type": "code",
   "execution_count": null,
   "id": "80f5958c",
   "metadata": {},
   "outputs": [
    {
     "name": "stderr",
     "output_type": "stream",
     "text": [
      "/tmp/ipykernel_1176167/796966141.py:2: DeprecationWarning: importing ReaderAsciiHepMC2 from pyhepmc is deprecated, please import from pyhepmc.io\n",
      "  from pyhepmc import GenEvent, GenParticle, ReaderAsciiHepMC2, FourVector\n"
     ]
    }
   ],
   "source": [
    "from typing import List, Tuple\n",
    "from pyhepmc import GenEvent, GenParticle, ReaderAsciiHepMC2, FourVector\n",
    "import numpy as np\n",
    "\n",
    "MOMENTUM_ORDER = True\n",
    "\n",
    "def calculate_trans_momentum(electron):\n",
    "    \"\"\"Function to calculate transverse momentum of a GenParticle Object\"\"\"\n",
    "    px = electron.momentum.px\n",
    "    py = electron.momentum.py\n",
    "    return np.sqrt(px**2 + py**2)\n",
    "\n",
    "def get_z_decay_electrons(event):\n",
    "    electrons = []\n",
    "    for p in event.particles:\n",
    "        if p.pid == 23:\n",
    "            vz = p.end_vertex\n",
    "            if vz is None:\n",
    "                continue\n",
    "            for dau in vz.particles_out:\n",
    "                if dau.status == 1 and abs(dau.pid) == 11:\n",
    "                    electrons.append(dau)\n",
    "    return electrons\n",
    "\n",
    "\n",
    "def extract_electron_momenta(event):\n",
    "    electrons = get_z_decay_electrons(event)\n",
    "    if len(electrons) < 2:\n",
    "        raise ValueError(f\"Expected at least 2 final-state electrons/positrons, found {len(electrons)}\")\n",
    "    e1, e2 = electrons[0], electrons[1]\n",
    "    elpt, e2pt = calculate_trans_momentum(e1), calculate_trans_momentum(e2)\n",
    "    if not MOMENTUM_ORDER:\n",
    "        return (e1.momentum, e2.momentum)\n",
    "    if elpt >= e2pt:\n",
    "        return (e1.momentum, e2.momentum)\n",
    "    else:\n",
    "        return (e2.momentum, e1.momentum)\n",
    "\n",
    "\n",
    "def extract_electron_momenta_from_hepmc2(input_path):\n",
    "    momenta_list = []\n",
    "    total = 0\n",
    "    skipped = 0\n",
    "    for paths in input_path:\n",
    "        with ReaderAsciiHepMC2(paths) as reader:\n",
    "            while not reader.failed():\n",
    "                evt = GenEvent()\n",
    "                reader.read_event(evt)\n",
    "                if reader.failed():\n",
    "                    break\n",
    "\n",
    "                total += 1\n",
    "                try:\n",
    "                    mom_pair = extract_electron_momenta(evt)\n",
    "                    momenta_list.append(mom_pair)\n",
    "                except ValueError:\n",
    "                    skipped += 1\n",
    "    print(f\"Processed {total} events, extracted from {len(momenta_list)} events, skipped {skipped} events.\")\n",
    "    return momenta_list\n",
    "\n",
    "\n",
    "import numpy as np\n",
    "\n",
    "def write_momenta_to_npz(momenta, output_path):\n",
    "    # Define column names\n",
    "    names = ['px1', 'py1', 'pz1', 'e1', 'px2', 'py2', 'pz2', 'e2']\n",
    "    \n",
    "    # Convert momenta into a NumPy array\n",
    "    data = np.array([\n",
    "        [p1.px, p1.py, p1.pz, p1.e, p2.px, p2.py, p2.pz, p2.e]\n",
    "        for (p1, p2) in momenta\n",
    "    ])\n",
    "    \n",
    "    # Save to NPZ with both data and names\n",
    "    np.savez(output_path, data=data, names=names)\n",
    "\n"
   ]
  },
  {
   "cell_type": "code",
   "execution_count": null,
   "id": "5324e5ee",
   "metadata": {},
   "outputs": [],
   "source": [
    "momenta = extract_electron_momenta_from_hepmc2([\n",
    "    f\"../DATA/HEPMCfiles/HEPMC.43646139._0000{str(i).zfill(2)}.hepmc\" for i in range(1, 11)\n",
    "])"
   ]
  },
  {
   "cell_type": "code",
   "execution_count": null,
   "id": "f24e4242",
   "metadata": {},
   "outputs": [],
   "source": [
    "write_momenta_to_npz(momenta, \"../DATA/MomentumOrdered100-000Events\")"
   ]
  },
  {
   "cell_type": "code",
   "execution_count": null,
   "id": "6ba37a65",
   "metadata": {},
   "outputs": [],
   "source": []
  }
 ],
 "metadata": {
  "kernelspec": {
   "display_name": "Python 3",
   "language": "python",
   "name": "python3"
  },
  "language_info": {
   "codemirror_mode": {
    "name": "ipython",
    "version": 3
   },
   "file_extension": ".py",
   "mimetype": "text/x-python",
   "name": "python",
   "nbconvert_exporter": "python",
   "pygments_lexer": "ipython3",
   "version": "3.9.21"
  }
 },
 "nbformat": 4,
 "nbformat_minor": 5
}
