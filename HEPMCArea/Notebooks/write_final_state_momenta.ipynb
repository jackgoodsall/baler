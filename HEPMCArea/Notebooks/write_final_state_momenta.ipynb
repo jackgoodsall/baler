{
 "cells": [
  {
   "cell_type": "markdown",
   "id": "d5bacc71",
   "metadata": {},
   "source": [
    "Notebook for inputting the final state momenta back into events after reconstruction (from baler), requires a npz of px1,py1,pz1,e1,px2,py2,pz2,e2.\n",
    "\n",
    "Requries pyhepmc."
   ]
  },
  {
   "cell_type": "code",
   "execution_count": 1,
   "id": "32deaae4",
   "metadata": {},
   "outputs": [],
   "source": [
    "import numpy as np\n",
    "import pyhepmc\n",
    "from pyhepmc.io import ReaderAsciiHepMC2, WriterAsciiHepMC2\n",
    "from pyhepmc import GenEvent\n",
    "\n",
    "def read_npz_and_split_data(input_path):\n",
    "    data = np.load(input_path)[\"data\"]\n",
    "    return data[:, :4], data[:, 4:]\n",
    "\n",
    "def replace_final_state_4_momenta(npz_file, input_file, output_file):\n",
    "    p1_data, p2_data = read_npz_and_split_data(npz_file)\n",
    "    count = 0\n",
    "    with ReaderAsciiHepMC2(input_file) as reader, \\\n",
    "         WriterAsciiHepMC2(output_file) as writer:\n",
    "\n",
    "        evt = GenEvent()\n",
    "        while not reader.failed():\n",
    "            reader.read_event(evt)\n",
    "            if reader.failed():\n",
    "                break\n",
    "            e_pair = []\n",
    "            for p in evt.particles:\n",
    "                if p.pid == 23:\n",
    "                    ev = p.end_vertex\n",
    "                    for dau in ev.particles_out:\n",
    "                        if dau.status == 1 and abs(dau.pid) == 11:\n",
    "                            e_pair.append(dau)\n",
    "            e_pair[0].momentum = pyhepmc.FourVector(p1_data[count,0], p1_data[count,1], p1_data[count, 2], p1_data[count, 3]) \n",
    "            e_pair[1].momentum = pyhepmc.FourVector(p2_data[count,0], p2_data[count,1], p2_data[count, 2], p2_data[count, 3])         \n",
    "\n",
    "            count += 1                    \n",
    "            writer.write(evt)\n",
    "\n",
    "    "
   ]
  },
  {
   "cell_type": "code",
   "execution_count": 2,
   "id": "c306f7d5",
   "metadata": {},
   "outputs": [
    {
     "ename": "FileNotFoundError",
     "evalue": "[Errno 2] No such file or directory: '4momenta.npz'",
     "output_type": "error",
     "traceback": [
      "\u001b[0;31m---------------------------------------------------------------------------\u001b[0m",
      "\u001b[0;31mFileNotFoundError\u001b[0m                         Traceback (most recent call last)",
      "Cell \u001b[0;32mIn [2], line 1\u001b[0m\n\u001b[0;32m----> 1\u001b[0m \u001b[43mreplace_final_state_4_momenta\u001b[49m\u001b[43m(\u001b[49m\u001b[38;5;124;43m\"\u001b[39;49m\u001b[38;5;124;43m4momenta.npz\u001b[39;49m\u001b[38;5;124;43m\"\u001b[39;49m\u001b[43m,\u001b[49m\u001b[43m \u001b[49m\u001b[38;5;124;43m\"\u001b[39;49m\u001b[38;5;124;43m../DATA/HEPMC.43646139._000001.hepmc\u001b[39;49m\u001b[38;5;124;43m\"\u001b[39;49m\u001b[43m,\u001b[49m\u001b[43m \u001b[49m\u001b[38;5;124;43m\"\u001b[39;49m\u001b[38;5;124;43m../processedData/reinputed_final_state.hepmc\u001b[39;49m\u001b[38;5;124;43m\"\u001b[39;49m\u001b[43m)\u001b[49m\n",
      "Cell \u001b[0;32mIn [1], line 11\u001b[0m, in \u001b[0;36mreplace_final_state_4_momenta\u001b[0;34m(npz_file, input_file, output_file)\u001b[0m\n\u001b[1;32m     10\u001b[0m \u001b[38;5;28;01mdef\u001b[39;00m \u001b[38;5;21mreplace_final_state_4_momenta\u001b[39m(npz_file, input_file, output_file):\n\u001b[0;32m---> 11\u001b[0m     p1_data, p2_data \u001b[38;5;241m=\u001b[39m \u001b[43mread_npz_and_split_data\u001b[49m\u001b[43m(\u001b[49m\u001b[43mnpz_file\u001b[49m\u001b[43m)\u001b[49m\n\u001b[1;32m     12\u001b[0m     count \u001b[38;5;241m=\u001b[39m \u001b[38;5;241m0\u001b[39m\n\u001b[1;32m     13\u001b[0m     \u001b[38;5;28;01mwith\u001b[39;00m ReaderAsciiHepMC2(input_file) \u001b[38;5;28;01mas\u001b[39;00m reader, \\\n\u001b[1;32m     14\u001b[0m          WriterAsciiHepMC2(output_file) \u001b[38;5;28;01mas\u001b[39;00m writer:\n",
      "Cell \u001b[0;32mIn [1], line 7\u001b[0m, in \u001b[0;36mread_npz_and_split_data\u001b[0;34m(input_path)\u001b[0m\n\u001b[1;32m      6\u001b[0m \u001b[38;5;28;01mdef\u001b[39;00m \u001b[38;5;21mread_npz_and_split_data\u001b[39m(input_path):\n\u001b[0;32m----> 7\u001b[0m     data \u001b[38;5;241m=\u001b[39m \u001b[43mnp\u001b[49m\u001b[38;5;241;43m.\u001b[39;49m\u001b[43mload\u001b[49m\u001b[43m(\u001b[49m\u001b[43minput_path\u001b[49m\u001b[43m)\u001b[49m[\u001b[38;5;124m\"\u001b[39m\u001b[38;5;124mdata\u001b[39m\u001b[38;5;124m\"\u001b[39m]\n\u001b[1;32m      8\u001b[0m     \u001b[38;5;28;01mreturn\u001b[39;00m data[:, :\u001b[38;5;241m4\u001b[39m], data[:, \u001b[38;5;241m4\u001b[39m:]\n",
      "File \u001b[0;32m/usr/lib64/python3.9/site-packages/numpy/lib/npyio.py:405\u001b[0m, in \u001b[0;36mload\u001b[0;34m(file, mmap_mode, allow_pickle, fix_imports, encoding, max_header_size)\u001b[0m\n\u001b[1;32m    403\u001b[0m     own_fid \u001b[38;5;241m=\u001b[39m \u001b[38;5;28;01mFalse\u001b[39;00m\n\u001b[1;32m    404\u001b[0m \u001b[38;5;28;01melse\u001b[39;00m:\n\u001b[0;32m--> 405\u001b[0m     fid \u001b[38;5;241m=\u001b[39m stack\u001b[38;5;241m.\u001b[39menter_context(\u001b[38;5;28;43mopen\u001b[39;49m\u001b[43m(\u001b[49m\u001b[43mos_fspath\u001b[49m\u001b[43m(\u001b[49m\u001b[43mfile\u001b[49m\u001b[43m)\u001b[49m\u001b[43m,\u001b[49m\u001b[43m \u001b[49m\u001b[38;5;124;43m\"\u001b[39;49m\u001b[38;5;124;43mrb\u001b[39;49m\u001b[38;5;124;43m\"\u001b[39;49m\u001b[43m)\u001b[49m)\n\u001b[1;32m    406\u001b[0m     own_fid \u001b[38;5;241m=\u001b[39m \u001b[38;5;28;01mTrue\u001b[39;00m\n\u001b[1;32m    408\u001b[0m \u001b[38;5;66;03m# Code to distinguish from NumPy binary files and pickles.\u001b[39;00m\n",
      "\u001b[0;31mFileNotFoundError\u001b[0m: [Errno 2] No such file or directory: '4momenta.npz'"
     ]
    }
   ],
   "source": [
    "replace_final_state_4_momenta(\"4momenta.npz\", \"../DATA/HEPMC.43646139._000001.hepmc\", \"../processedData/reinputed_final_state.hepmc\")"
   ]
  },
  {
   "cell_type": "code",
   "execution_count": null,
   "id": "c6ef7a30",
   "metadata": {},
   "outputs": [],
   "source": []
  }
 ],
 "metadata": {
  "kernelspec": {
   "display_name": "Python 3",
   "language": "python",
   "name": "python3"
  },
  "language_info": {
   "codemirror_mode": {
    "name": "ipython",
    "version": 3
   },
   "file_extension": ".py",
   "mimetype": "text/x-python",
   "name": "python",
   "nbconvert_exporter": "python",
   "pygments_lexer": "ipython3",
   "version": "3.9.21"
  }
 },
 "nbformat": 4,
 "nbformat_minor": 5
}
