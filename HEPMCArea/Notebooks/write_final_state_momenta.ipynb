{
 "cells": [
  {
   "cell_type": "markdown",
   "id": "d5bacc71",
   "metadata": {},
   "source": [
    "Notebook for inputting the final state momenta back into events after reconstruction (from baler), requires a npz of px1,py1,pz1,e1,px2,py2,pz2,e2.\n",
    "\n",
    "Requries pyhepmc."
   ]
  },
  {
   "cell_type": "code",
   "execution_count": 2,
   "id": "32deaae4",
   "metadata": {},
   "outputs": [],
   "source": [
    "import numpy as np\n",
    "import pyhepmc\n",
    "from pyhepmc.io import ReaderAsciiHepMC2, WriterAsciiHepMC2\n",
    "from pyhepmc import GenEvent\n",
    "\n",
    "def read_npz_and_split_data(input_path):\n",
    "    data = np.load(input_path)[\"data\"]\n",
    "    return data[:, :4], data[:, 4:]\n",
    "\n",
    "def replace_final_state_4_momenta(npz_file, input_file, output_file):\n",
    "    p1_data, p2_data = read_npz_and_split_data(npz_file)\n",
    "    count = 0\n",
    "    with ReaderAsciiHepMC2(input_file) as reader, \\\n",
    "         WriterAsciiHepMC2(output_file) as writer:\n",
    "\n",
    "        evt = GenEvent()\n",
    "        while not reader.failed():\n",
    "            reader.read_event(evt)\n",
    "            if reader.failed():\n",
    "                break\n",
    "            e_pair = []\n",
    "            for p in evt.particles:\n",
    "                if p.pid == 23:\n",
    "                    ev = p.end_vertex\n",
    "                    for dau in ev.particles_out:\n",
    "                        if dau.status == 1 and abs(dau.pid) == 11:\n",
    "                            e_pair.append(dau)\n",
    "            e_pair[0].momentum = pyhepmc.FourVector(p1_data[count,0], p1_data[count,1], p1_data[count, 2], p1_data[count, 3]) \n",
    "            e_pair[1].momentum = pyhepmc.FourVector(p2_data[count,0], p2_data[count,1], p2_data[count, 2], p2_data[count, 3])         \n",
    "\n",
    "            count += 1                    \n",
    "            writer.write(evt)\n",
    "\n",
    "    "
   ]
  },
  {
   "cell_type": "code",
   "execution_count": 3,
   "id": "c306f7d5",
   "metadata": {},
   "outputs": [
    {
     "name": "stdout",
     "output_type": "stream",
     "text": [
      "WARNING::WriterAsciiHepMC2::WriterAsciiHepMC2: HepMC2 IO_GenEvent format is outdated. Please use HepMC3 Asciiv3 format instead.\n"
     ]
    }
   ],
   "source": [
    "replace_final_state_4_momenta(\"../processedData/decompressed.npz\", \"../DATA/HEPMC.43646139._000001.hepmc\", \"../processedData/reinputed_final_state.hepmc\")"
   ]
  },
  {
   "cell_type": "code",
   "execution_count": null,
   "id": "e292eef5",
   "metadata": {},
   "outputs": [],
   "source": []
  }
 ],
 "metadata": {
  "kernelspec": {
   "display_name": "Python 3",
   "language": "python",
   "name": "python3"
  },
  "language_info": {
   "codemirror_mode": {
    "name": "ipython",
    "version": 3
   },
   "file_extension": ".py",
   "mimetype": "text/x-python",
   "name": "python",
   "nbconvert_exporter": "python",
   "pygments_lexer": "ipython3",
   "version": "3.9.21"
  }
 },
 "nbformat": 4,
 "nbformat_minor": 5
}
