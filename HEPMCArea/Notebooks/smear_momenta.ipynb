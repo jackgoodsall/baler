{
 "cells": [
  {
   "cell_type": "markdown",
   "id": "628db0ee",
   "metadata": {},
   "source": [
    "# Smear momenta"
   ]
  },
  {
   "cell_type": "markdown",
   "id": "6ce3762b",
   "metadata": {},
   "source": [
    "Notebook to smear the momenta of particles inside of a HEPMC file and write a new file back out, used for River experimentation, explained in the README.md inside Notebooks."
   ]
  },
  {
   "cell_type": "code",
   "execution_count": null,
   "id": "3dce47e8",
   "metadata": {},
   "outputs": [
    {
     "name": "stdout",
     "output_type": "stream",
     "text": [
      "Active release set to: 2025r-evgen. Metadata cache cleared.\n"
     ]
    }
   ],
   "source": [
    "import pyhepmc\n",
    "import numpy as np"
   ]
  },
  {
   "cell_type": "code",
   "execution_count": null,
   "id": "3273b0cc",
   "metadata": {},
   "outputs": [],
   "source": [
    "def smear_final_state_momenta(\n",
    "    input_file: str,\n",
    "    output_file: str,\n",
    "    sigma_E: float = 0.05,\n",
    "    sigma_p: float = 0.05,\n",
    "):\n",
    "    reader = pyhepmc.io.ReaderAsciiHepMC2(input_file)\n",
    "    writer = pyhepmc.io.WriterAsciiHepMC2(output_file)\n",
    "    event = pyhepmc.GenEvent()\n",
    "    while not reader.failed():\n",
    "        reader.read_event(event)\n",
    "        if reader.failed():\n",
    "            break\n",
    "        for particle in event.particles:\n",
    "            #if particle.status == 1:  # Final-state particle\n",
    "            #if abs(particle.pid) == 11:\n",
    "            #    break\n",
    "            #if abs(particle.pid) == 2112:\n",
    "            #    break\n",
    "            #if particle.status == 4:\n",
    "            #    break\n",
    "            px, py, pz, e = particle.momentum.px, particle.momentum.py, particle.momentum.pz, particle.momentum.e\n",
    "\n",
    "            px_new = px + np.random.normal(0, abs(px) * sigma_p)\n",
    "            py_new = py + np.random.normal(0, abs(py) * sigma_p)\n",
    "            pz_new = pz + np.random.normal(0, abs(pz) * sigma_p)\n",
    "            e_new = e +  np.random.normal(0, abs(e) * sigma_E)\n",
    "\n",
    "            particle.momentum = pyhepmc.FourVector(px_new, py_new, pz_new, e_new)\n",
    "\n",
    "        writer.write_event(event)\n",
    "\n",
    "    reader.close()\n",
    "    writer.close()"
   ]
  },
  {
   "cell_type": "code",
   "execution_count": 19,
   "id": "0d0e3720",
   "metadata": {},
   "outputs": [
    {
     "name": "stdout",
     "output_type": "stream",
     "text": [
      "WARNING::WriterAsciiHepMC2::WriterAsciiHepMC2: HepMC2 IO_GenEvent format is outdated. Please use HepMC3 Asciiv3 format instead.\n"
     ]
    }
   ],
   "source": [
    "smear_final_state_momenta(\n",
    "    \"../data/HEPMC.43646139._000001.hepmc\",\n",
    "    \"../processeddata/Smeared.ALLPARTICLES_NO_LEPTONS.hepmc\"\n",
    ")"
   ]
  }
 ],
 "metadata": {
  "kernelspec": {
   "display_name": "Python 3",
   "language": "python",
   "name": "python3"
  },
  "language_info": {
   "codemirror_mode": {
    "name": "ipython",
    "version": 3
   },
   "file_extension": ".py",
   "mimetype": "text/x-python",
   "name": "python",
   "nbconvert_exporter": "python",
   "pygments_lexer": "ipython3",
   "version": "3.9.21"
  }
 },
 "nbformat": 4,
 "nbformat_minor": 5
}
