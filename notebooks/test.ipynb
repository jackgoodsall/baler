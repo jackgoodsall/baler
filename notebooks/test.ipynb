{
 "cells": [
  {
   "cell_type": "code",
   "execution_count": 7,
   "id": "cc5e391d",
   "metadata": {},
   "outputs": [
    {
     "name": "stdout",
     "output_type": "stream",
     "text": [
      "\n",
      "Normalizing the data...\n",
      "torch.Size([468000, 24])\n",
      "/home/jack/anaconda3/envs/baler-env/lib/python3.9/site-packages/torch/optim/lr_scheduler.py:62: UserWarning: The verbose parameter is deprecated. Please use get_last_lr() to access the learning rate.\n",
      "  warnings.warn(\n",
      "Epoch 1 of 200\n",
      "### Beginning Training\n",
      "  0%|                                                   | 0/915 [00:00<?, ?it/s]\n",
      "Traceback (most recent call last):\n",
      "  File \"<string>\", line 1, in <module>\n",
      "  File \"/home/jack/baler/baler/baler/baler.py\", line 63, in main\n",
      "    perform_training(output_path=output_path, config=config, verbose=verbose)\n",
      "  File \"/home/jack/baler/baler/baler/baler.py\", line 174, in perform_training\n",
      "    trained_model = helper.train(\n",
      "  File \"/home/jack/baler/baler/baler/modules/helper.py\", line 351, in train\n",
      "    return training.train(\n",
      "  File \"/home/jack/baler/baler/baler/modules/training.py\", line 292, in train\n",
      "    train_epoch_loss, mse_loss_fit, regularizer_loss_fit, trained_model = fit(\n",
      "  File \"/home/jack/baler/baler/baler/modules/training.py\", line 71, in fit\n",
      "    reconstructions = model(inputs)\n",
      "  File \"/home/jack/anaconda3/envs/baler-env/lib/python3.9/site-packages/torch/nn/modules/module.py\", line 1736, in _wrapped_call_impl\n",
      "    return self._call_impl(*args, **kwargs)\n",
      "  File \"/home/jack/anaconda3/envs/baler-env/lib/python3.9/site-packages/torch/nn/modules/module.py\", line 1747, in _call_impl\n",
      "    return forward_call(*args, **kwargs)\n",
      "  File \"/home/jack/baler/baler/baler/modules/models.py\", line 899, in forward\n",
      "    z = self.encode(x)\n",
      "  File \"/home/jack/baler/baler/baler/modules/models.py\", line 864, in encode\n",
      "    z = self.transformer_encoder_layer_1(x)\n",
      "  File \"/home/jack/anaconda3/envs/baler-env/lib/python3.9/site-packages/torch/nn/modules/module.py\", line 1736, in _wrapped_call_impl\n",
      "    return self._call_impl(*args, **kwargs)\n",
      "  File \"/home/jack/anaconda3/envs/baler-env/lib/python3.9/site-packages/torch/nn/modules/module.py\", line 1747, in _call_impl\n",
      "    return forward_call(*args, **kwargs)\n",
      "  File \"/home/jack/anaconda3/envs/baler-env/lib/python3.9/site-packages/torch/nn/modules/transformer.py\", line 898, in forward\n",
      "    self.norm1(x), src_mask, src_key_padding_mask, is_causal=is_causal\n",
      "  File \"/home/jack/anaconda3/envs/baler-env/lib/python3.9/site-packages/torch/nn/modules/module.py\", line 1736, in _wrapped_call_impl\n",
      "    return self._call_impl(*args, **kwargs)\n",
      "  File \"/home/jack/anaconda3/envs/baler-env/lib/python3.9/site-packages/torch/nn/modules/module.py\", line 1747, in _call_impl\n",
      "    return forward_call(*args, **kwargs)\n",
      "  File \"/home/jack/anaconda3/envs/baler-env/lib/python3.9/site-packages/torch/nn/modules/normalization.py\", line 217, in forward\n",
      "    return F.layer_norm(\n",
      "  File \"/home/jack/anaconda3/envs/baler-env/lib/python3.9/site-packages/torch/nn/functional.py\", line 2900, in layer_norm\n",
      "    return torch.layer_norm(\n",
      "RuntimeError: expected scalar type Double but found Float\n"
     ]
    }
   ],
   "source": [
    "!poetry run baler --project CMS_workspace CMS_project_v1  --mode train"
   ]
  },
  {
   "cell_type": "code",
   "execution_count": 6,
   "id": "461403a0",
   "metadata": {},
   "outputs": [],
   "source": [
    "import os\n",
    "import sys\n",
    "\n",
    "sys.path.append(os.getcwd())\n",
    "project_root = os.chdir(\"..\")\n",
    "sys.path.append(project_root)"
   ]
  }
 ],
 "metadata": {
  "kernelspec": {
   "display_name": "baler-env",
   "language": "python",
   "name": "python3"
  },
  "language_info": {
   "codemirror_mode": {
    "name": "ipython",
    "version": 3
   },
   "file_extension": ".py",
   "mimetype": "text/x-python",
   "name": "python",
   "nbconvert_exporter": "python",
   "pygments_lexer": "ipython3",
   "version": "3.9.23"
  }
 },
 "nbformat": 4,
 "nbformat_minor": 5
}
